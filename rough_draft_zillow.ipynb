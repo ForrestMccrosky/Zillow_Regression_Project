{
 "cells": [
  {
   "cell_type": "markdown",
   "metadata": {},
   "source": [
    "#### Zillow Prject Rought Draft Notebook"
   ]
  },
  {
   "cell_type": "code",
   "execution_count": 1,
   "metadata": {},
   "outputs": [],
   "source": [
    "import math\n",
    "import warnings\n",
    "warnings.filterwarnings(\"ignore\")\n",
    "\n",
    "import pandas as pd\n",
    "import numpy as np\n",
    "import seaborn as sns  \n",
    "import matplotlib.pyplot as plt\n",
    "from scipy import stats\n",
    "\n",
    "from sklearn.metrics import explained_variance_score\n",
    "from sklearn.metrics import mean_squared_error\n",
    "from sklearn.linear_model import LinearRegression, LassoLars, TweedieRegressor\n",
    "from sklearn.preprocessing import PolynomialFeatures\n",
    "import sklearn.preprocessing\n",
    "from sklearn.linear_model import LinearRegression\n",
    "from sklearn.metrics import r2_score, mean_squared_error\n",
    "from sklearn.feature_selection import SelectKBest, f_regression, RFE\n",
    "\n",
    "\n",
    "## function file imports\n",
    "from env import user, host, password, sql_connect\n",
    "from zillow_acquire import organize_zillow\n",
    "from prepare_zillow import split_data, delete_outliers, Min_Max_Scaler\n",
    "from explore_zillow import plot_categorical_and_continuous_vars, plot_variable_pairs"
   ]
  },
  {
   "cell_type": "markdown",
   "metadata": {},
   "source": [
    "## Acquire Zillow"
   ]
  },
  {
   "cell_type": "code",
   "execution_count": 2,
   "metadata": {},
   "outputs": [],
   "source": [
    "##bulding SQL query to select the columns neccessary for project\n",
    "\n",
    "##using a where clause with propertylandusetypeid to filter for\n",
    "##data that I consider Single Unit Properties\n",
    "\n",
    "sql_query = '''\n",
    "select parcelid, bedroomcnt, bathroomcnt, calculatedfinishedsquarefeet, taxvaluedollarcnt,       yearbuilt, taxamount, fips\n",
    "from properties_2017\n",
    "where propertylandusetypeid in (260, 261, 262, 263, 264, 265, 266, 273, 275, 276,       279); \n",
    "'''"
   ]
  },
  {
   "cell_type": "code",
   "execution_count": 3,
   "metadata": {},
   "outputs": [
    {
     "data": {
      "text/html": [
       "<div>\n",
       "<style scoped>\n",
       "    .dataframe tbody tr th:only-of-type {\n",
       "        vertical-align: middle;\n",
       "    }\n",
       "\n",
       "    .dataframe tbody tr th {\n",
       "        vertical-align: top;\n",
       "    }\n",
       "\n",
       "    .dataframe thead th {\n",
       "        text-align: right;\n",
       "    }\n",
       "</style>\n",
       "<table border=\"1\" class=\"dataframe\">\n",
       "  <thead>\n",
       "    <tr style=\"text-align: right;\">\n",
       "      <th></th>\n",
       "      <th>parcelid</th>\n",
       "      <th>bedroomcnt</th>\n",
       "      <th>bathroomcnt</th>\n",
       "      <th>calculatedfinishedsquarefeet</th>\n",
       "      <th>taxvaluedollarcnt</th>\n",
       "      <th>yearbuilt</th>\n",
       "      <th>taxamount</th>\n",
       "      <th>fips</th>\n",
       "    </tr>\n",
       "  </thead>\n",
       "  <tbody>\n",
       "    <tr>\n",
       "      <th>0</th>\n",
       "      <td>10759547</td>\n",
       "      <td>0.0</td>\n",
       "      <td>0.0</td>\n",
       "      <td>NaN</td>\n",
       "      <td>27516.0</td>\n",
       "      <td>NaN</td>\n",
       "      <td>NaN</td>\n",
       "      <td>6037.0</td>\n",
       "    </tr>\n",
       "    <tr>\n",
       "      <th>1</th>\n",
       "      <td>10933547</td>\n",
       "      <td>0.0</td>\n",
       "      <td>0.0</td>\n",
       "      <td>NaN</td>\n",
       "      <td>563029.0</td>\n",
       "      <td>NaN</td>\n",
       "      <td>6773.34</td>\n",
       "      <td>6037.0</td>\n",
       "    </tr>\n",
       "    <tr>\n",
       "      <th>2</th>\n",
       "      <td>11142747</td>\n",
       "      <td>0.0</td>\n",
       "      <td>0.0</td>\n",
       "      <td>NaN</td>\n",
       "      <td>4265.0</td>\n",
       "      <td>NaN</td>\n",
       "      <td>NaN</td>\n",
       "      <td>6037.0</td>\n",
       "    </tr>\n",
       "    <tr>\n",
       "      <th>3</th>\n",
       "      <td>11193347</td>\n",
       "      <td>0.0</td>\n",
       "      <td>0.0</td>\n",
       "      <td>NaN</td>\n",
       "      <td>10.0</td>\n",
       "      <td>NaN</td>\n",
       "      <td>NaN</td>\n",
       "      <td>6037.0</td>\n",
       "    </tr>\n",
       "    <tr>\n",
       "      <th>4</th>\n",
       "      <td>11215747</td>\n",
       "      <td>0.0</td>\n",
       "      <td>0.0</td>\n",
       "      <td>NaN</td>\n",
       "      <td>10.0</td>\n",
       "      <td>NaN</td>\n",
       "      <td>NaN</td>\n",
       "      <td>6037.0</td>\n",
       "    </tr>\n",
       "  </tbody>\n",
       "</table>\n",
       "</div>"
      ],
      "text/plain": [
       "   parcelid  bedroomcnt  bathroomcnt  calculatedfinishedsquarefeet  \\\n",
       "0  10759547         0.0          0.0                           NaN   \n",
       "1  10933547         0.0          0.0                           NaN   \n",
       "2  11142747         0.0          0.0                           NaN   \n",
       "3  11193347         0.0          0.0                           NaN   \n",
       "4  11215747         0.0          0.0                           NaN   \n",
       "\n",
       "   taxvaluedollarcnt  yearbuilt  taxamount    fips  \n",
       "0            27516.0        NaN        NaN  6037.0  \n",
       "1           563029.0        NaN    6773.34  6037.0  \n",
       "2             4265.0        NaN        NaN  6037.0  \n",
       "3               10.0        NaN        NaN  6037.0  \n",
       "4               10.0        NaN        NaN  6037.0  "
      ]
     },
     "execution_count": 3,
     "metadata": {},
     "output_type": "execute_result"
    }
   ],
   "source": [
    "## reading into a pandas dataframe and checking out the dataframe \n",
    "\n",
    "zillow_df = pd.read_sql(sql_query, sql_connect('zillow'))\n",
    "zillow_df.head()"
   ]
  },
  {
   "cell_type": "code",
   "execution_count": 4,
   "metadata": {},
   "outputs": [
    {
     "data": {
      "text/plain": [
       "(2709893, 8)"
      ]
     },
     "execution_count": 4,
     "metadata": {},
     "output_type": "execute_result"
    }
   ],
   "source": [
    "zillow_df.shape ##checking out the shape of your dataframe"
   ]
  },
  {
   "cell_type": "code",
   "execution_count": 5,
   "metadata": {},
   "outputs": [
    {
     "data": {
      "text/plain": [
       "parcelid                            0\n",
       "bedroomcnt                         11\n",
       "bathroomcnt                        23\n",
       "calculatedfinishedsquarefeet    38198\n",
       "taxvaluedollarcnt               31192\n",
       "yearbuilt                       38257\n",
       "taxamount                       16452\n",
       "fips                                0\n",
       "dtype: int64"
      ]
     },
     "execution_count": 5,
     "metadata": {},
     "output_type": "execute_result"
    }
   ],
   "source": [
    "zillow_df.isnull().sum() ##looking at the sum of our null values\n",
    "\n",
    "## given our data shape (row size) and the amount of null data is insignificant \n",
    "## to the amount of data we have. So we are going to drop the rows with \n",
    "## null values"
   ]
  },
  {
   "cell_type": "code",
   "execution_count": 6,
   "metadata": {},
   "outputs": [
    {
     "data": {
      "text/plain": [
       "(2637531, 8)"
      ]
     },
     "execution_count": 6,
     "metadata": {},
     "output_type": "execute_result"
    }
   ],
   "source": [
    "zillow_df = zillow_df.dropna()  ## <-- drop the nulls\n",
    "zillow_df.shape \n",
    "\n",
    "## we still have plenty of data to work with"
   ]
  },
  {
   "cell_type": "code",
   "execution_count": 7,
   "metadata": {},
   "outputs": [
    {
     "data": {
      "text/plain": [
       "parcelid                        0\n",
       "bedroomcnt                      0\n",
       "bathroomcnt                     0\n",
       "calculatedfinishedsquarefeet    0\n",
       "taxvaluedollarcnt               0\n",
       "yearbuilt                       0\n",
       "taxamount                       0\n",
       "fips                            0\n",
       "dtype: int64"
      ]
     },
     "execution_count": 7,
     "metadata": {},
     "output_type": "execute_result"
    }
   ],
   "source": [
    "zillow_df.isnull().sum() \n",
    "\n",
    "## checking to see if nulls are gone"
   ]
  },
  {
   "cell_type": "code",
   "execution_count": 8,
   "metadata": {},
   "outputs": [
    {
     "data": {
      "text/html": [
       "<div>\n",
       "<style scoped>\n",
       "    .dataframe tbody tr th:only-of-type {\n",
       "        vertical-align: middle;\n",
       "    }\n",
       "\n",
       "    .dataframe tbody tr th {\n",
       "        vertical-align: top;\n",
       "    }\n",
       "\n",
       "    .dataframe thead th {\n",
       "        text-align: right;\n",
       "    }\n",
       "</style>\n",
       "<table border=\"1\" class=\"dataframe\">\n",
       "  <thead>\n",
       "    <tr style=\"text-align: right;\">\n",
       "      <th></th>\n",
       "      <th>parcelid</th>\n",
       "      <th>bedroomcnt</th>\n",
       "      <th>bathroomcnt</th>\n",
       "      <th>calculatedfinishedsquarefeet</th>\n",
       "      <th>taxvaluedollarcnt</th>\n",
       "      <th>yearbuilt</th>\n",
       "      <th>taxamount</th>\n",
       "      <th>fips</th>\n",
       "    </tr>\n",
       "  </thead>\n",
       "  <tbody>\n",
       "    <tr>\n",
       "      <th>6</th>\n",
       "      <td>11288547</td>\n",
       "      <td>0.0</td>\n",
       "      <td>0.0</td>\n",
       "      <td>4000.0</td>\n",
       "      <td>314727.0</td>\n",
       "      <td>1956.0</td>\n",
       "      <td>4162.56</td>\n",
       "      <td>6037.0</td>\n",
       "    </tr>\n",
       "    <tr>\n",
       "      <th>7</th>\n",
       "      <td>11324547</td>\n",
       "      <td>4.0</td>\n",
       "      <td>2.0</td>\n",
       "      <td>3633.0</td>\n",
       "      <td>296425.0</td>\n",
       "      <td>2005.0</td>\n",
       "      <td>6941.39</td>\n",
       "      <td>6037.0</td>\n",
       "    </tr>\n",
       "    <tr>\n",
       "      <th>9</th>\n",
       "      <td>11524947</td>\n",
       "      <td>2.0</td>\n",
       "      <td>2.0</td>\n",
       "      <td>1090.0</td>\n",
       "      <td>357568.0</td>\n",
       "      <td>2004.0</td>\n",
       "      <td>6165.36</td>\n",
       "      <td>6037.0</td>\n",
       "    </tr>\n",
       "    <tr>\n",
       "      <th>10</th>\n",
       "      <td>11544747</td>\n",
       "      <td>3.0</td>\n",
       "      <td>4.0</td>\n",
       "      <td>1620.0</td>\n",
       "      <td>847770.0</td>\n",
       "      <td>2011.0</td>\n",
       "      <td>10244.94</td>\n",
       "      <td>6037.0</td>\n",
       "    </tr>\n",
       "    <tr>\n",
       "      <th>11</th>\n",
       "      <td>11585547</td>\n",
       "      <td>3.0</td>\n",
       "      <td>2.0</td>\n",
       "      <td>2077.0</td>\n",
       "      <td>646760.0</td>\n",
       "      <td>1926.0</td>\n",
       "      <td>7924.68</td>\n",
       "      <td>6037.0</td>\n",
       "    </tr>\n",
       "  </tbody>\n",
       "</table>\n",
       "</div>"
      ],
      "text/plain": [
       "    parcelid  bedroomcnt  bathroomcnt  calculatedfinishedsquarefeet  \\\n",
       "6   11288547         0.0          0.0                        4000.0   \n",
       "7   11324547         4.0          2.0                        3633.0   \n",
       "9   11524947         2.0          2.0                        1090.0   \n",
       "10  11544747         3.0          4.0                        1620.0   \n",
       "11  11585547         3.0          2.0                        2077.0   \n",
       "\n",
       "    taxvaluedollarcnt  yearbuilt  taxamount    fips  \n",
       "6            314727.0     1956.0    4162.56  6037.0  \n",
       "7            296425.0     2005.0    6941.39  6037.0  \n",
       "9            357568.0     2004.0    6165.36  6037.0  \n",
       "10           847770.0     2011.0   10244.94  6037.0  \n",
       "11           646760.0     1926.0    7924.68  6037.0  "
      ]
     },
     "execution_count": 8,
     "metadata": {},
     "output_type": "execute_result"
    }
   ],
   "source": [
    "zillow_df.head()"
   ]
  },
  {
   "cell_type": "code",
   "execution_count": 9,
   "metadata": {},
   "outputs": [
    {
     "data": {
      "text/html": [
       "<div>\n",
       "<style scoped>\n",
       "    .dataframe tbody tr th:only-of-type {\n",
       "        vertical-align: middle;\n",
       "    }\n",
       "\n",
       "    .dataframe tbody tr th {\n",
       "        vertical-align: top;\n",
       "    }\n",
       "\n",
       "    .dataframe thead th {\n",
       "        text-align: right;\n",
       "    }\n",
       "</style>\n",
       "<table border=\"1\" class=\"dataframe\">\n",
       "  <thead>\n",
       "    <tr style=\"text-align: right;\">\n",
       "      <th></th>\n",
       "      <th>parcel_id</th>\n",
       "      <th>beds</th>\n",
       "      <th>baths</th>\n",
       "      <th>square_feet</th>\n",
       "      <th>tax_value</th>\n",
       "      <th>year_built</th>\n",
       "      <th>tax_amount</th>\n",
       "      <th>fips</th>\n",
       "    </tr>\n",
       "  </thead>\n",
       "  <tbody>\n",
       "    <tr>\n",
       "      <th>6</th>\n",
       "      <td>11288547</td>\n",
       "      <td>0.0</td>\n",
       "      <td>0.0</td>\n",
       "      <td>4000.0</td>\n",
       "      <td>314727.0</td>\n",
       "      <td>1956.0</td>\n",
       "      <td>4162.56</td>\n",
       "      <td>6037.0</td>\n",
       "    </tr>\n",
       "    <tr>\n",
       "      <th>7</th>\n",
       "      <td>11324547</td>\n",
       "      <td>4.0</td>\n",
       "      <td>2.0</td>\n",
       "      <td>3633.0</td>\n",
       "      <td>296425.0</td>\n",
       "      <td>2005.0</td>\n",
       "      <td>6941.39</td>\n",
       "      <td>6037.0</td>\n",
       "    </tr>\n",
       "    <tr>\n",
       "      <th>9</th>\n",
       "      <td>11524947</td>\n",
       "      <td>2.0</td>\n",
       "      <td>2.0</td>\n",
       "      <td>1090.0</td>\n",
       "      <td>357568.0</td>\n",
       "      <td>2004.0</td>\n",
       "      <td>6165.36</td>\n",
       "      <td>6037.0</td>\n",
       "    </tr>\n",
       "    <tr>\n",
       "      <th>10</th>\n",
       "      <td>11544747</td>\n",
       "      <td>3.0</td>\n",
       "      <td>4.0</td>\n",
       "      <td>1620.0</td>\n",
       "      <td>847770.0</td>\n",
       "      <td>2011.0</td>\n",
       "      <td>10244.94</td>\n",
       "      <td>6037.0</td>\n",
       "    </tr>\n",
       "    <tr>\n",
       "      <th>11</th>\n",
       "      <td>11585547</td>\n",
       "      <td>3.0</td>\n",
       "      <td>2.0</td>\n",
       "      <td>2077.0</td>\n",
       "      <td>646760.0</td>\n",
       "      <td>1926.0</td>\n",
       "      <td>7924.68</td>\n",
       "      <td>6037.0</td>\n",
       "    </tr>\n",
       "  </tbody>\n",
       "</table>\n",
       "</div>"
      ],
      "text/plain": [
       "    parcel_id  beds  baths  square_feet  tax_value  year_built  tax_amount  \\\n",
       "6    11288547   0.0    0.0       4000.0   314727.0      1956.0     4162.56   \n",
       "7    11324547   4.0    2.0       3633.0   296425.0      2005.0     6941.39   \n",
       "9    11524947   2.0    2.0       1090.0   357568.0      2004.0     6165.36   \n",
       "10   11544747   3.0    4.0       1620.0   847770.0      2011.0    10244.94   \n",
       "11   11585547   3.0    2.0       2077.0   646760.0      1926.0     7924.68   \n",
       "\n",
       "      fips  \n",
       "6   6037.0  \n",
       "7   6037.0  \n",
       "9   6037.0  \n",
       "10  6037.0  \n",
       "11  6037.0  "
      ]
     },
     "execution_count": 9,
     "metadata": {},
     "output_type": "execute_result"
    }
   ],
   "source": [
    "zillow_df = organize_zillow(zillow_df) ##function that renames columns\n",
    "zillow_df.head()"
   ]
  },
  {
   "cell_type": "markdown",
   "metadata": {},
   "source": [
    "## Prepare zillow"
   ]
  },
  {
   "cell_type": "markdown",
   "metadata": {},
   "source": [
    "#### Removing Outliers"
   ]
  },
  {
   "cell_type": "code",
   "execution_count": 10,
   "metadata": {},
   "outputs": [],
   "source": [
    "zillow_df = delete_outliers(zillow_df) ##function that removes outliers\n",
    "\n",
    "## documented in prepare_zillow.py"
   ]
  },
  {
   "cell_type": "code",
   "execution_count": 11,
   "metadata": {},
   "outputs": [
    {
     "data": {
      "text/html": [
       "<div>\n",
       "<style scoped>\n",
       "    .dataframe tbody tr th:only-of-type {\n",
       "        vertical-align: middle;\n",
       "    }\n",
       "\n",
       "    .dataframe tbody tr th {\n",
       "        vertical-align: top;\n",
       "    }\n",
       "\n",
       "    .dataframe thead th {\n",
       "        text-align: right;\n",
       "    }\n",
       "</style>\n",
       "<table border=\"1\" class=\"dataframe\">\n",
       "  <thead>\n",
       "    <tr style=\"text-align: right;\">\n",
       "      <th></th>\n",
       "      <th>parcel_id</th>\n",
       "      <th>beds</th>\n",
       "      <th>baths</th>\n",
       "      <th>square_feet</th>\n",
       "      <th>tax_value</th>\n",
       "      <th>year_built</th>\n",
       "      <th>tax_amount</th>\n",
       "      <th>fips</th>\n",
       "    </tr>\n",
       "  </thead>\n",
       "  <tbody>\n",
       "    <tr>\n",
       "      <th>6</th>\n",
       "      <td>11288547</td>\n",
       "      <td>0.0</td>\n",
       "      <td>0.0</td>\n",
       "      <td>4000.0</td>\n",
       "      <td>314727.0</td>\n",
       "      <td>1956.0</td>\n",
       "      <td>4162.56</td>\n",
       "      <td>6037.0</td>\n",
       "    </tr>\n",
       "    <tr>\n",
       "      <th>7</th>\n",
       "      <td>11324547</td>\n",
       "      <td>4.0</td>\n",
       "      <td>2.0</td>\n",
       "      <td>3633.0</td>\n",
       "      <td>296425.0</td>\n",
       "      <td>2005.0</td>\n",
       "      <td>6941.39</td>\n",
       "      <td>6037.0</td>\n",
       "    </tr>\n",
       "    <tr>\n",
       "      <th>9</th>\n",
       "      <td>11524947</td>\n",
       "      <td>2.0</td>\n",
       "      <td>2.0</td>\n",
       "      <td>1090.0</td>\n",
       "      <td>357568.0</td>\n",
       "      <td>2004.0</td>\n",
       "      <td>6165.36</td>\n",
       "      <td>6037.0</td>\n",
       "    </tr>\n",
       "    <tr>\n",
       "      <th>10</th>\n",
       "      <td>11544747</td>\n",
       "      <td>3.0</td>\n",
       "      <td>4.0</td>\n",
       "      <td>1620.0</td>\n",
       "      <td>847770.0</td>\n",
       "      <td>2011.0</td>\n",
       "      <td>10244.94</td>\n",
       "      <td>6037.0</td>\n",
       "    </tr>\n",
       "    <tr>\n",
       "      <th>11</th>\n",
       "      <td>11585547</td>\n",
       "      <td>3.0</td>\n",
       "      <td>2.0</td>\n",
       "      <td>2077.0</td>\n",
       "      <td>646760.0</td>\n",
       "      <td>1926.0</td>\n",
       "      <td>7924.68</td>\n",
       "      <td>6037.0</td>\n",
       "    </tr>\n",
       "  </tbody>\n",
       "</table>\n",
       "</div>"
      ],
      "text/plain": [
       "    parcel_id  beds  baths  square_feet  tax_value  year_built  tax_amount  \\\n",
       "6    11288547   0.0    0.0       4000.0   314727.0      1956.0     4162.56   \n",
       "7    11324547   4.0    2.0       3633.0   296425.0      2005.0     6941.39   \n",
       "9    11524947   2.0    2.0       1090.0   357568.0      2004.0     6165.36   \n",
       "10   11544747   3.0    4.0       1620.0   847770.0      2011.0    10244.94   \n",
       "11   11585547   3.0    2.0       2077.0   646760.0      1926.0     7924.68   \n",
       "\n",
       "      fips  \n",
       "6   6037.0  \n",
       "7   6037.0  \n",
       "9   6037.0  \n",
       "10  6037.0  \n",
       "11  6037.0  "
      ]
     },
     "execution_count": 11,
     "metadata": {},
     "output_type": "execute_result"
    }
   ],
   "source": [
    "zillow_df.head()"
   ]
  },
  {
   "cell_type": "code",
   "execution_count": 12,
   "metadata": {},
   "outputs": [
    {
     "data": {
      "text/plain": [
       "(2577530, 8)"
      ]
     },
     "execution_count": 12,
     "metadata": {},
     "output_type": "execute_result"
    }
   ],
   "source": [
    "zillow_df.shape"
   ]
  },
  {
   "cell_type": "markdown",
   "metadata": {},
   "source": [
    "##### Splitting Zillow"
   ]
  },
  {
   "cell_type": "code",
   "execution_count": 13,
   "metadata": {},
   "outputs": [],
   "source": [
    "train, validate, test = split_data(zillow_df) ##function that split\n",
    "\n",
    "## data into train, validate, and test"
   ]
  },
  {
   "cell_type": "code",
   "execution_count": 14,
   "metadata": {},
   "outputs": [
    {
     "data": {
      "text/plain": [
       "((1443416, 8), (618608, 8), (515506, 8))"
      ]
     },
     "execution_count": 14,
     "metadata": {},
     "output_type": "execute_result"
    }
   ],
   "source": [
    "train.shape, validate.shape, test.shape"
   ]
  },
  {
   "cell_type": "code",
   "execution_count": 15,
   "metadata": {},
   "outputs": [
    {
     "data": {
      "text/html": [
       "<div>\n",
       "<style scoped>\n",
       "    .dataframe tbody tr th:only-of-type {\n",
       "        vertical-align: middle;\n",
       "    }\n",
       "\n",
       "    .dataframe tbody tr th {\n",
       "        vertical-align: top;\n",
       "    }\n",
       "\n",
       "    .dataframe thead th {\n",
       "        text-align: right;\n",
       "    }\n",
       "</style>\n",
       "<table border=\"1\" class=\"dataframe\">\n",
       "  <thead>\n",
       "    <tr style=\"text-align: right;\">\n",
       "      <th></th>\n",
       "      <th>parcel_id</th>\n",
       "      <th>beds</th>\n",
       "      <th>baths</th>\n",
       "      <th>square_feet</th>\n",
       "      <th>tax_value</th>\n",
       "      <th>year_built</th>\n",
       "      <th>tax_amount</th>\n",
       "      <th>fips</th>\n",
       "    </tr>\n",
       "  </thead>\n",
       "  <tbody>\n",
       "    <tr>\n",
       "      <th>1947992</th>\n",
       "      <td>14017406</td>\n",
       "      <td>3.0</td>\n",
       "      <td>2.0</td>\n",
       "      <td>1642.0</td>\n",
       "      <td>185126.0</td>\n",
       "      <td>1959.0</td>\n",
       "      <td>2375.14</td>\n",
       "      <td>6059.0</td>\n",
       "    </tr>\n",
       "    <tr>\n",
       "      <th>357715</th>\n",
       "      <td>12038183</td>\n",
       "      <td>3.0</td>\n",
       "      <td>3.0</td>\n",
       "      <td>4086.0</td>\n",
       "      <td>1295091.0</td>\n",
       "      <td>1991.0</td>\n",
       "      <td>15700.30</td>\n",
       "      <td>6037.0</td>\n",
       "    </tr>\n",
       "    <tr>\n",
       "      <th>1433502</th>\n",
       "      <td>14144399</td>\n",
       "      <td>4.0</td>\n",
       "      <td>2.5</td>\n",
       "      <td>2005.0</td>\n",
       "      <td>546883.0</td>\n",
       "      <td>1998.0</td>\n",
       "      <td>6382.36</td>\n",
       "      <td>6059.0</td>\n",
       "    </tr>\n",
       "    <tr>\n",
       "      <th>195214</th>\n",
       "      <td>12064996</td>\n",
       "      <td>2.0</td>\n",
       "      <td>3.0</td>\n",
       "      <td>1262.0</td>\n",
       "      <td>406225.0</td>\n",
       "      <td>1992.0</td>\n",
       "      <td>4405.31</td>\n",
       "      <td>6037.0</td>\n",
       "    </tr>\n",
       "    <tr>\n",
       "      <th>10812</th>\n",
       "      <td>14266702</td>\n",
       "      <td>4.0</td>\n",
       "      <td>2.0</td>\n",
       "      <td>1884.0</td>\n",
       "      <td>326417.0</td>\n",
       "      <td>1972.0</td>\n",
       "      <td>4078.22</td>\n",
       "      <td>6059.0</td>\n",
       "    </tr>\n",
       "  </tbody>\n",
       "</table>\n",
       "</div>"
      ],
      "text/plain": [
       "         parcel_id  beds  baths  square_feet  tax_value  year_built  \\\n",
       "1947992   14017406   3.0    2.0       1642.0   185126.0      1959.0   \n",
       "357715    12038183   3.0    3.0       4086.0  1295091.0      1991.0   \n",
       "1433502   14144399   4.0    2.5       2005.0   546883.0      1998.0   \n",
       "195214    12064996   2.0    3.0       1262.0   406225.0      1992.0   \n",
       "10812     14266702   4.0    2.0       1884.0   326417.0      1972.0   \n",
       "\n",
       "         tax_amount    fips  \n",
       "1947992     2375.14  6059.0  \n",
       "357715     15700.30  6037.0  \n",
       "1433502     6382.36  6059.0  \n",
       "195214      4405.31  6037.0  \n",
       "10812       4078.22  6059.0  "
      ]
     },
     "execution_count": 15,
     "metadata": {},
     "output_type": "execute_result"
    }
   ],
   "source": [
    "train.head()"
   ]
  },
  {
   "cell_type": "code",
   "execution_count": 16,
   "metadata": {},
   "outputs": [
    {
     "data": {
      "text/html": [
       "<div>\n",
       "<style scoped>\n",
       "    .dataframe tbody tr th:only-of-type {\n",
       "        vertical-align: middle;\n",
       "    }\n",
       "\n",
       "    .dataframe tbody tr th {\n",
       "        vertical-align: top;\n",
       "    }\n",
       "\n",
       "    .dataframe thead th {\n",
       "        text-align: right;\n",
       "    }\n",
       "</style>\n",
       "<table border=\"1\" class=\"dataframe\">\n",
       "  <thead>\n",
       "    <tr style=\"text-align: right;\">\n",
       "      <th></th>\n",
       "      <th>parcel_id</th>\n",
       "      <th>beds</th>\n",
       "      <th>baths</th>\n",
       "      <th>square_feet</th>\n",
       "      <th>tax_value</th>\n",
       "      <th>year_built</th>\n",
       "      <th>tax_amount</th>\n",
       "      <th>fips</th>\n",
       "    </tr>\n",
       "  </thead>\n",
       "  <tbody>\n",
       "    <tr>\n",
       "      <th>980078</th>\n",
       "      <td>11738953</td>\n",
       "      <td>4.0</td>\n",
       "      <td>3.0</td>\n",
       "      <td>2052.0</td>\n",
       "      <td>107382.0</td>\n",
       "      <td>1939.0</td>\n",
       "      <td>1425.39</td>\n",
       "      <td>6037.0</td>\n",
       "    </tr>\n",
       "    <tr>\n",
       "      <th>425483</th>\n",
       "      <td>12053720</td>\n",
       "      <td>4.0</td>\n",
       "      <td>2.0</td>\n",
       "      <td>1585.0</td>\n",
       "      <td>403192.0</td>\n",
       "      <td>1927.0</td>\n",
       "      <td>4485.20</td>\n",
       "      <td>6037.0</td>\n",
       "    </tr>\n",
       "    <tr>\n",
       "      <th>2089329</th>\n",
       "      <td>11063181</td>\n",
       "      <td>4.0</td>\n",
       "      <td>3.0</td>\n",
       "      <td>2106.0</td>\n",
       "      <td>530000.0</td>\n",
       "      <td>1961.0</td>\n",
       "      <td>6660.04</td>\n",
       "      <td>6037.0</td>\n",
       "    </tr>\n",
       "    <tr>\n",
       "      <th>1557117</th>\n",
       "      <td>14653044</td>\n",
       "      <td>2.0</td>\n",
       "      <td>2.5</td>\n",
       "      <td>1390.0</td>\n",
       "      <td>498487.0</td>\n",
       "      <td>1975.0</td>\n",
       "      <td>5766.16</td>\n",
       "      <td>6059.0</td>\n",
       "    </tr>\n",
       "    <tr>\n",
       "      <th>2528168</th>\n",
       "      <td>12805978</td>\n",
       "      <td>3.0</td>\n",
       "      <td>2.0</td>\n",
       "      <td>1249.0</td>\n",
       "      <td>319350.0</td>\n",
       "      <td>1949.0</td>\n",
       "      <td>4126.65</td>\n",
       "      <td>6037.0</td>\n",
       "    </tr>\n",
       "  </tbody>\n",
       "</table>\n",
       "</div>"
      ],
      "text/plain": [
       "         parcel_id  beds  baths  square_feet  tax_value  year_built  \\\n",
       "980078    11738953   4.0    3.0       2052.0   107382.0      1939.0   \n",
       "425483    12053720   4.0    2.0       1585.0   403192.0      1927.0   \n",
       "2089329   11063181   4.0    3.0       2106.0   530000.0      1961.0   \n",
       "1557117   14653044   2.0    2.5       1390.0   498487.0      1975.0   \n",
       "2528168   12805978   3.0    2.0       1249.0   319350.0      1949.0   \n",
       "\n",
       "         tax_amount    fips  \n",
       "980078      1425.39  6037.0  \n",
       "425483      4485.20  6037.0  \n",
       "2089329     6660.04  6037.0  \n",
       "1557117     5766.16  6059.0  \n",
       "2528168     4126.65  6037.0  "
      ]
     },
     "execution_count": 16,
     "metadata": {},
     "output_type": "execute_result"
    }
   ],
   "source": [
    "validate.head()"
   ]
  },
  {
   "cell_type": "code",
   "execution_count": 17,
   "metadata": {},
   "outputs": [
    {
     "data": {
      "text/html": [
       "<div>\n",
       "<style scoped>\n",
       "    .dataframe tbody tr th:only-of-type {\n",
       "        vertical-align: middle;\n",
       "    }\n",
       "\n",
       "    .dataframe tbody tr th {\n",
       "        vertical-align: top;\n",
       "    }\n",
       "\n",
       "    .dataframe thead th {\n",
       "        text-align: right;\n",
       "    }\n",
       "</style>\n",
       "<table border=\"1\" class=\"dataframe\">\n",
       "  <thead>\n",
       "    <tr style=\"text-align: right;\">\n",
       "      <th></th>\n",
       "      <th>parcel_id</th>\n",
       "      <th>beds</th>\n",
       "      <th>baths</th>\n",
       "      <th>square_feet</th>\n",
       "      <th>tax_value</th>\n",
       "      <th>year_built</th>\n",
       "      <th>tax_amount</th>\n",
       "      <th>fips</th>\n",
       "    </tr>\n",
       "  </thead>\n",
       "  <tbody>\n",
       "    <tr>\n",
       "      <th>329469</th>\n",
       "      <td>11654418</td>\n",
       "      <td>5.0</td>\n",
       "      <td>4.0</td>\n",
       "      <td>3161.0</td>\n",
       "      <td>1127902.0</td>\n",
       "      <td>1968.0</td>\n",
       "      <td>13677.64</td>\n",
       "      <td>6037.0</td>\n",
       "    </tr>\n",
       "    <tr>\n",
       "      <th>421160</th>\n",
       "      <td>17274150</td>\n",
       "      <td>2.0</td>\n",
       "      <td>1.5</td>\n",
       "      <td>1777.0</td>\n",
       "      <td>514598.0</td>\n",
       "      <td>1956.0</td>\n",
       "      <td>5426.20</td>\n",
       "      <td>6111.0</td>\n",
       "    </tr>\n",
       "    <tr>\n",
       "      <th>6313</th>\n",
       "      <td>12334735</td>\n",
       "      <td>3.0</td>\n",
       "      <td>1.0</td>\n",
       "      <td>1108.0</td>\n",
       "      <td>305309.0</td>\n",
       "      <td>1949.0</td>\n",
       "      <td>3863.06</td>\n",
       "      <td>6037.0</td>\n",
       "    </tr>\n",
       "    <tr>\n",
       "      <th>343591</th>\n",
       "      <td>11855621</td>\n",
       "      <td>3.0</td>\n",
       "      <td>2.0</td>\n",
       "      <td>1272.0</td>\n",
       "      <td>499249.0</td>\n",
       "      <td>1948.0</td>\n",
       "      <td>6719.52</td>\n",
       "      <td>6037.0</td>\n",
       "    </tr>\n",
       "    <tr>\n",
       "      <th>2678267</th>\n",
       "      <td>13037138</td>\n",
       "      <td>3.0</td>\n",
       "      <td>3.0</td>\n",
       "      <td>2052.0</td>\n",
       "      <td>109949.0</td>\n",
       "      <td>1989.0</td>\n",
       "      <td>1553.30</td>\n",
       "      <td>6037.0</td>\n",
       "    </tr>\n",
       "  </tbody>\n",
       "</table>\n",
       "</div>"
      ],
      "text/plain": [
       "         parcel_id  beds  baths  square_feet  tax_value  year_built  \\\n",
       "329469    11654418   5.0    4.0       3161.0  1127902.0      1968.0   \n",
       "421160    17274150   2.0    1.5       1777.0   514598.0      1956.0   \n",
       "6313      12334735   3.0    1.0       1108.0   305309.0      1949.0   \n",
       "343591    11855621   3.0    2.0       1272.0   499249.0      1948.0   \n",
       "2678267   13037138   3.0    3.0       2052.0   109949.0      1989.0   \n",
       "\n",
       "         tax_amount    fips  \n",
       "329469     13677.64  6037.0  \n",
       "421160      5426.20  6111.0  \n",
       "6313        3863.06  6037.0  \n",
       "343591      6719.52  6037.0  \n",
       "2678267     1553.30  6037.0  "
      ]
     },
     "execution_count": 17,
     "metadata": {},
     "output_type": "execute_result"
    }
   ],
   "source": [
    "test.head()"
   ]
  },
  {
   "cell_type": "markdown",
   "metadata": {},
   "source": [
    "#### Setting up X's and Y's"
   ]
  },
  {
   "cell_type": "code",
   "execution_count": 18,
   "metadata": {},
   "outputs": [],
   "source": [
    "## Setting up X and y's by dropping target variable from X's and setting them to y\n",
    "\n",
    "## also dropping unneccessary columns for predicting target variable\n",
    "\n",
    "## as well as dropping tax_amount to avoid information leak in modeling phase\n",
    "\n",
    "## for train, validate, and test\n",
    "\n",
    "X_train, y_train = train.drop(columns = ['tax_value','fips', 'parcel_id', 'year_built', 'tax_amount']), train.tax_value\n",
    "X_validate, y_validate = validate.drop(columns = ['tax_value','fips', 'parcel_id', 'year_built', 'tax_amount']), validate.tax_value\n",
    "X_test, y_test = test.drop(columns = ['tax_value','fips', 'parcel_id', 'year_built', 'tax_amount']), test.tax_value"
   ]
  },
  {
   "cell_type": "code",
   "execution_count": 19,
   "metadata": {},
   "outputs": [
    {
     "data": {
      "text/html": [
       "<div>\n",
       "<style scoped>\n",
       "    .dataframe tbody tr th:only-of-type {\n",
       "        vertical-align: middle;\n",
       "    }\n",
       "\n",
       "    .dataframe tbody tr th {\n",
       "        vertical-align: top;\n",
       "    }\n",
       "\n",
       "    .dataframe thead th {\n",
       "        text-align: right;\n",
       "    }\n",
       "</style>\n",
       "<table border=\"1\" class=\"dataframe\">\n",
       "  <thead>\n",
       "    <tr style=\"text-align: right;\">\n",
       "      <th></th>\n",
       "      <th>beds</th>\n",
       "      <th>baths</th>\n",
       "      <th>square_feet</th>\n",
       "    </tr>\n",
       "  </thead>\n",
       "  <tbody>\n",
       "    <tr>\n",
       "      <th>1947992</th>\n",
       "      <td>3.0</td>\n",
       "      <td>2.0</td>\n",
       "      <td>1642.0</td>\n",
       "    </tr>\n",
       "    <tr>\n",
       "      <th>357715</th>\n",
       "      <td>3.0</td>\n",
       "      <td>3.0</td>\n",
       "      <td>4086.0</td>\n",
       "    </tr>\n",
       "    <tr>\n",
       "      <th>1433502</th>\n",
       "      <td>4.0</td>\n",
       "      <td>2.5</td>\n",
       "      <td>2005.0</td>\n",
       "    </tr>\n",
       "    <tr>\n",
       "      <th>195214</th>\n",
       "      <td>2.0</td>\n",
       "      <td>3.0</td>\n",
       "      <td>1262.0</td>\n",
       "    </tr>\n",
       "    <tr>\n",
       "      <th>10812</th>\n",
       "      <td>4.0</td>\n",
       "      <td>2.0</td>\n",
       "      <td>1884.0</td>\n",
       "    </tr>\n",
       "  </tbody>\n",
       "</table>\n",
       "</div>"
      ],
      "text/plain": [
       "         beds  baths  square_feet\n",
       "1947992   3.0    2.0       1642.0\n",
       "357715    3.0    3.0       4086.0\n",
       "1433502   4.0    2.5       2005.0\n",
       "195214    2.0    3.0       1262.0\n",
       "10812     4.0    2.0       1884.0"
      ]
     },
     "execution_count": 19,
     "metadata": {},
     "output_type": "execute_result"
    }
   ],
   "source": [
    "X_train.head()"
   ]
  },
  {
   "cell_type": "code",
   "execution_count": 20,
   "metadata": {},
   "outputs": [
    {
     "data": {
      "text/plain": [
       "1947992     185126.0\n",
       "357715     1295091.0\n",
       "1433502     546883.0\n",
       "195214      406225.0\n",
       "10812       326417.0\n",
       "Name: tax_value, dtype: float64"
      ]
     },
     "execution_count": 20,
     "metadata": {},
     "output_type": "execute_result"
    }
   ],
   "source": [
    "y_train.head()"
   ]
  },
  {
   "cell_type": "markdown",
   "metadata": {},
   "source": [
    "#### Scaling the X's for modeling purposes"
   ]
  },
  {
   "cell_type": "code",
   "execution_count": 21,
   "metadata": {},
   "outputs": [],
   "source": [
    "##using min max scaler function to scale our X's for modeling\n",
    "\n",
    "_, X_train_scaled, X_validate_scaled, X_test_scaled = Min_Max_Scaler(X_train, X_validate, X_test)"
   ]
  },
  {
   "cell_type": "markdown",
   "metadata": {},
   "source": [
    "#### Looking our scaled X's"
   ]
  },
  {
   "cell_type": "code",
   "execution_count": 22,
   "metadata": {},
   "outputs": [
    {
     "data": {
      "text/html": [
       "<div>\n",
       "<style scoped>\n",
       "    .dataframe tbody tr th:only-of-type {\n",
       "        vertical-align: middle;\n",
       "    }\n",
       "\n",
       "    .dataframe tbody tr th {\n",
       "        vertical-align: top;\n",
       "    }\n",
       "\n",
       "    .dataframe thead th {\n",
       "        text-align: right;\n",
       "    }\n",
       "</style>\n",
       "<table border=\"1\" class=\"dataframe\">\n",
       "  <thead>\n",
       "    <tr style=\"text-align: right;\">\n",
       "      <th></th>\n",
       "      <th>beds</th>\n",
       "      <th>baths</th>\n",
       "      <th>square_feet</th>\n",
       "    </tr>\n",
       "  </thead>\n",
       "  <tbody>\n",
       "    <tr>\n",
       "      <th>1947992</th>\n",
       "      <td>0.214286</td>\n",
       "      <td>0.100</td>\n",
       "      <td>0.302377</td>\n",
       "    </tr>\n",
       "    <tr>\n",
       "      <th>357715</th>\n",
       "      <td>0.214286</td>\n",
       "      <td>0.150</td>\n",
       "      <td>0.752718</td>\n",
       "    </tr>\n",
       "    <tr>\n",
       "      <th>1433502</th>\n",
       "      <td>0.285714</td>\n",
       "      <td>0.125</td>\n",
       "      <td>0.369265</td>\n",
       "    </tr>\n",
       "    <tr>\n",
       "      <th>195214</th>\n",
       "      <td>0.142857</td>\n",
       "      <td>0.150</td>\n",
       "      <td>0.232357</td>\n",
       "    </tr>\n",
       "    <tr>\n",
       "      <th>10812</th>\n",
       "      <td>0.285714</td>\n",
       "      <td>0.100</td>\n",
       "      <td>0.346969</td>\n",
       "    </tr>\n",
       "  </tbody>\n",
       "</table>\n",
       "</div>"
      ],
      "text/plain": [
       "             beds  baths  square_feet\n",
       "1947992  0.214286  0.100     0.302377\n",
       "357715   0.214286  0.150     0.752718\n",
       "1433502  0.285714  0.125     0.369265\n",
       "195214   0.142857  0.150     0.232357\n",
       "10812    0.285714  0.100     0.346969"
      ]
     },
     "execution_count": 22,
     "metadata": {},
     "output_type": "execute_result"
    }
   ],
   "source": [
    "X_train_scaled.head()"
   ]
  },
  {
   "cell_type": "code",
   "execution_count": 23,
   "metadata": {},
   "outputs": [
    {
     "data": {
      "text/html": [
       "<div>\n",
       "<style scoped>\n",
       "    .dataframe tbody tr th:only-of-type {\n",
       "        vertical-align: middle;\n",
       "    }\n",
       "\n",
       "    .dataframe tbody tr th {\n",
       "        vertical-align: top;\n",
       "    }\n",
       "\n",
       "    .dataframe thead th {\n",
       "        text-align: right;\n",
       "    }\n",
       "</style>\n",
       "<table border=\"1\" class=\"dataframe\">\n",
       "  <thead>\n",
       "    <tr style=\"text-align: right;\">\n",
       "      <th></th>\n",
       "      <th>beds</th>\n",
       "      <th>baths</th>\n",
       "      <th>square_feet</th>\n",
       "    </tr>\n",
       "  </thead>\n",
       "  <tbody>\n",
       "    <tr>\n",
       "      <th>980078</th>\n",
       "      <td>0.285714</td>\n",
       "      <td>0.150</td>\n",
       "      <td>0.377925</td>\n",
       "    </tr>\n",
       "    <tr>\n",
       "      <th>425483</th>\n",
       "      <td>0.285714</td>\n",
       "      <td>0.100</td>\n",
       "      <td>0.291874</td>\n",
       "    </tr>\n",
       "    <tr>\n",
       "      <th>2089329</th>\n",
       "      <td>0.285714</td>\n",
       "      <td>0.150</td>\n",
       "      <td>0.387875</td>\n",
       "    </tr>\n",
       "    <tr>\n",
       "      <th>1557117</th>\n",
       "      <td>0.142857</td>\n",
       "      <td>0.125</td>\n",
       "      <td>0.255943</td>\n",
       "    </tr>\n",
       "    <tr>\n",
       "      <th>2528168</th>\n",
       "      <td>0.214286</td>\n",
       "      <td>0.100</td>\n",
       "      <td>0.229961</td>\n",
       "    </tr>\n",
       "  </tbody>\n",
       "</table>\n",
       "</div>"
      ],
      "text/plain": [
       "             beds  baths  square_feet\n",
       "980078   0.285714  0.150     0.377925\n",
       "425483   0.285714  0.100     0.291874\n",
       "2089329  0.285714  0.150     0.387875\n",
       "1557117  0.142857  0.125     0.255943\n",
       "2528168  0.214286  0.100     0.229961"
      ]
     },
     "execution_count": 23,
     "metadata": {},
     "output_type": "execute_result"
    }
   ],
   "source": [
    "X_validate_scaled.head()"
   ]
  },
  {
   "cell_type": "code",
   "execution_count": 24,
   "metadata": {},
   "outputs": [
    {
     "data": {
      "text/html": [
       "<div>\n",
       "<style scoped>\n",
       "    .dataframe tbody tr th:only-of-type {\n",
       "        vertical-align: middle;\n",
       "    }\n",
       "\n",
       "    .dataframe tbody tr th {\n",
       "        vertical-align: top;\n",
       "    }\n",
       "\n",
       "    .dataframe thead th {\n",
       "        text-align: right;\n",
       "    }\n",
       "</style>\n",
       "<table border=\"1\" class=\"dataframe\">\n",
       "  <thead>\n",
       "    <tr style=\"text-align: right;\">\n",
       "      <th></th>\n",
       "      <th>beds</th>\n",
       "      <th>baths</th>\n",
       "      <th>square_feet</th>\n",
       "    </tr>\n",
       "  </thead>\n",
       "  <tbody>\n",
       "    <tr>\n",
       "      <th>329469</th>\n",
       "      <td>0.357143</td>\n",
       "      <td>0.200</td>\n",
       "      <td>0.582274</td>\n",
       "    </tr>\n",
       "    <tr>\n",
       "      <th>421160</th>\n",
       "      <td>0.142857</td>\n",
       "      <td>0.075</td>\n",
       "      <td>0.327253</td>\n",
       "    </tr>\n",
       "    <tr>\n",
       "      <th>6313</th>\n",
       "      <td>0.214286</td>\n",
       "      <td>0.050</td>\n",
       "      <td>0.203980</td>\n",
       "    </tr>\n",
       "    <tr>\n",
       "      <th>343591</th>\n",
       "      <td>0.214286</td>\n",
       "      <td>0.100</td>\n",
       "      <td>0.234199</td>\n",
       "    </tr>\n",
       "    <tr>\n",
       "      <th>2678267</th>\n",
       "      <td>0.214286</td>\n",
       "      <td>0.150</td>\n",
       "      <td>0.377925</td>\n",
       "    </tr>\n",
       "  </tbody>\n",
       "</table>\n",
       "</div>"
      ],
      "text/plain": [
       "             beds  baths  square_feet\n",
       "329469   0.357143  0.200     0.582274\n",
       "421160   0.142857  0.075     0.327253\n",
       "6313     0.214286  0.050     0.203980\n",
       "343591   0.214286  0.100     0.234199\n",
       "2678267  0.214286  0.150     0.377925"
      ]
     },
     "execution_count": 24,
     "metadata": {},
     "output_type": "execute_result"
    }
   ],
   "source": [
    "X_test_scaled.head()"
   ]
  },
  {
   "cell_type": "markdown",
   "metadata": {},
   "source": [
    "## Time to Explore"
   ]
  },
  {
   "cell_type": "code",
   "execution_count": 25,
   "metadata": {},
   "outputs": [
    {
     "data": {
      "text/html": [
       "<div>\n",
       "<style scoped>\n",
       "    .dataframe tbody tr th:only-of-type {\n",
       "        vertical-align: middle;\n",
       "    }\n",
       "\n",
       "    .dataframe tbody tr th {\n",
       "        vertical-align: top;\n",
       "    }\n",
       "\n",
       "    .dataframe thead th {\n",
       "        text-align: right;\n",
       "    }\n",
       "</style>\n",
       "<table border=\"1\" class=\"dataframe\">\n",
       "  <thead>\n",
       "    <tr style=\"text-align: right;\">\n",
       "      <th></th>\n",
       "      <th>parcel_id</th>\n",
       "      <th>beds</th>\n",
       "      <th>baths</th>\n",
       "      <th>square_feet</th>\n",
       "      <th>tax_value</th>\n",
       "      <th>year_built</th>\n",
       "      <th>tax_amount</th>\n",
       "      <th>fips</th>\n",
       "    </tr>\n",
       "  </thead>\n",
       "  <tbody>\n",
       "    <tr>\n",
       "      <th>1947992</th>\n",
       "      <td>14017406</td>\n",
       "      <td>3.0</td>\n",
       "      <td>2.0</td>\n",
       "      <td>1642.0</td>\n",
       "      <td>185126.0</td>\n",
       "      <td>1959.0</td>\n",
       "      <td>2375.14</td>\n",
       "      <td>6059.0</td>\n",
       "    </tr>\n",
       "    <tr>\n",
       "      <th>357715</th>\n",
       "      <td>12038183</td>\n",
       "      <td>3.0</td>\n",
       "      <td>3.0</td>\n",
       "      <td>4086.0</td>\n",
       "      <td>1295091.0</td>\n",
       "      <td>1991.0</td>\n",
       "      <td>15700.30</td>\n",
       "      <td>6037.0</td>\n",
       "    </tr>\n",
       "    <tr>\n",
       "      <th>1433502</th>\n",
       "      <td>14144399</td>\n",
       "      <td>4.0</td>\n",
       "      <td>2.5</td>\n",
       "      <td>2005.0</td>\n",
       "      <td>546883.0</td>\n",
       "      <td>1998.0</td>\n",
       "      <td>6382.36</td>\n",
       "      <td>6059.0</td>\n",
       "    </tr>\n",
       "    <tr>\n",
       "      <th>195214</th>\n",
       "      <td>12064996</td>\n",
       "      <td>2.0</td>\n",
       "      <td>3.0</td>\n",
       "      <td>1262.0</td>\n",
       "      <td>406225.0</td>\n",
       "      <td>1992.0</td>\n",
       "      <td>4405.31</td>\n",
       "      <td>6037.0</td>\n",
       "    </tr>\n",
       "    <tr>\n",
       "      <th>10812</th>\n",
       "      <td>14266702</td>\n",
       "      <td>4.0</td>\n",
       "      <td>2.0</td>\n",
       "      <td>1884.0</td>\n",
       "      <td>326417.0</td>\n",
       "      <td>1972.0</td>\n",
       "      <td>4078.22</td>\n",
       "      <td>6059.0</td>\n",
       "    </tr>\n",
       "  </tbody>\n",
       "</table>\n",
       "</div>"
      ],
      "text/plain": [
       "         parcel_id  beds  baths  square_feet  tax_value  year_built  \\\n",
       "1947992   14017406   3.0    2.0       1642.0   185126.0      1959.0   \n",
       "357715    12038183   3.0    3.0       4086.0  1295091.0      1991.0   \n",
       "1433502   14144399   4.0    2.5       2005.0   546883.0      1998.0   \n",
       "195214    12064996   2.0    3.0       1262.0   406225.0      1992.0   \n",
       "10812     14266702   4.0    2.0       1884.0   326417.0      1972.0   \n",
       "\n",
       "         tax_amount    fips  \n",
       "1947992     2375.14  6059.0  \n",
       "357715     15700.30  6037.0  \n",
       "1433502     6382.36  6059.0  \n",
       "195214      4405.31  6037.0  \n",
       "10812       4078.22  6059.0  "
      ]
     },
     "execution_count": 25,
     "metadata": {},
     "output_type": "execute_result"
    }
   ],
   "source": [
    "train.head()"
   ]
  },
  {
   "cell_type": "markdown",
   "metadata": {},
   "source": [
    "#### Variable Distributions"
   ]
  },
  {
   "cell_type": "code",
   "execution_count": 26,
   "metadata": {},
   "outputs": [
    {
     "data": {
      "image/png": "[encoded data removed]",
      "text/plain": [
       "<Figure size 1008x720 with 3 Axes>"
      ]
     },
     "metadata": {
      "needs_background": "light"
     },
     "output_type": "display_data"
    }
   ],
   "source": [
    "plt.figure(figsize = (14,10))\n",
    "plt.subplot(3,1,1, title ='Square Feet Historgram')\n",
    "plt.hist(data=train, x='square_feet', bins = 20, ec = 'black')\n",
    "\n",
    "plt.subplot(3,1,2, title ='Bedroom Count Historgram')\n",
    "plt.hist(data=train, x='beds', bins = 20, ec = 'black')\n",
    "\n",
    "plt.subplot(3,1,3, title ='Bathroom Count Historgram')\n",
    "plt.hist(data=train, x='baths', bins = 20, ec = 'black')\n",
    "\n",
    "plt.show()\n",
    "\n",
    "\n",
    "## showing subplot with 20 bin size to show distributions of bedrooms, bathrooms, and square feet"
   ]
  },
  {
   "cell_type": "markdown",
   "metadata": {},
   "source": [
    "### Pair Plots & Heatmap"
   ]
  },
  {
   "cell_type": "code",
   "execution_count": 27,
   "metadata": {},
   "outputs": [],
   "source": [
    "cols = ['square_feet', 'baths', 'beds', 'tax_value']\n",
    "\n",
    "## setting list of columns"
   ]
  },
  {
   "cell_type": "code",
   "execution_count": 28,
   "metadata": {},
   "outputs": [
    {
     "data": {
      "text/plain": [
       "<seaborn.axisgrid.PairGrid at 0x7f8426cdd9d0>"
      ]
     },
     "execution_count": 28,
     "metadata": {},
     "output_type": "execute_result"
    },
    {
     "data": {
      "image/png": "[encoded data removed]",
      "text/plain": [
       "<Figure size 720x720 with 14 Axes>"
      ]
     },
     "metadata": {
      "needs_background": "light"
     },
     "output_type": "display_data"
    }
   ],
   "source": [
    "##creating cornered pairplot \n",
    "\n",
    "sns.pairplot(train[cols], corner = True)"
   ]
  },
  {
   "cell_type": "code",
   "execution_count": 29,
   "metadata": {},
   "outputs": [
    {
     "data": {
      "text/plain": [
       "<AxesSubplot:>"
      ]
     },
     "execution_count": 29,
     "metadata": {},
     "output_type": "execute_result"
    },
    {
     "data": {
      "image/png": "[encoded data removed]",
      "text/plain": [
       "<Figure size 432x288 with 2 Axes>"
      ]
     },
     "metadata": {
      "needs_background": "light"
     },
     "output_type": "display_data"
    }
   ],
   "source": [
    "sns.heatmap(train.corr()[['tax_value']].sort_values(by='tax_value'), annot = True,\n",
    "           vmin = -1, vmax = 1)"
   ]
  },
  {
   "cell_type": "markdown",
   "metadata": {},
   "source": [
    "## Statistical Testing"
   ]
  },
  {
   "cell_type": "code",
   "execution_count": 30,
   "metadata": {},
   "outputs": [],
   "source": [
    "alpha = 0.05 ## <-- Determining alpha value"
   ]
  },
  {
   "cell_type": "markdown",
   "metadata": {},
   "source": [
    "#### Correlation Tests of Baths and Square_Feet"
   ]
  },
  {
   "cell_type": "markdown",
   "metadata": {},
   "source": [
    "##### Standard Hypothesis for correlation test of all variables"
   ]
  },
  {
   "cell_type": "markdown",
   "metadata": {},
   "source": [
    "$H_0$ : There is no relationship between these variables\n",
    "\n",
    "$H_a$ : There is evidence to suggest there is a realtionhip between these two variables"
   ]
  },
  {
   "cell_type": "code",
   "execution_count": 31,
   "metadata": {},
   "outputs": [
    {
     "data": {
      "text/plain": [
       "(0.5658376308422073, 0.0)"
      ]
     },
     "execution_count": 31,
     "metadata": {},
     "output_type": "execute_result"
    }
   ],
   "source": [
    "## performing correlation test on square feet because the heat map showed\n",
    "## a good correlation value.\n",
    "\n",
    "## Now we test it to determine if it is a significant relationship\n",
    "\n",
    "corr, p = stats.pearsonr(train.square_feet, train.tax_value)\n",
    "corr, p"
   ]
  },
  {
   "cell_type": "markdown",
   "metadata": {},
   "source": [
    " - With a high correlation of .56 and a p value less than our alpha 0.05 we can conclude that there is evidence to suggest there is a  significant realtionship between the square feet of a single unit home and its associated tax value, thus accepting the alternate hypothesis"
   ]
  },
  {
   "cell_type": "code",
   "execution_count": 32,
   "metadata": {},
   "outputs": [
    {
     "data": {
      "text/plain": [
       "(0.4846827914923082, 0.0)"
      ]
     },
     "execution_count": 32,
     "metadata": {},
     "output_type": "execute_result"
    }
   ],
   "source": [
    "## performing correlation test on baths because the heat map showed\n",
    "## a good correlation value.\n",
    "\n",
    "## Now we test it to determine if it is a significant relationship\n",
    "\n",
    "corr, p = stats.pearsonr(train.baths, train.tax_value)\n",
    "corr, p"
   ]
  },
  {
   "cell_type": "markdown",
   "metadata": {},
   "source": [
    " - With a high correlation of .48 and a p value less than our alpha 0.05 we can conclude that there is evidence to suggest there is a  significant realtionship between the bathroom count of a single unit home and its associated tax value, thus accepting the alternate hypothesis"
   ]
  },
  {
   "cell_type": "markdown",
   "metadata": {},
   "source": [
    "#### T, P Test for Square Feet and tax_value"
   ]
  },
  {
   "cell_type": "code",
   "execution_count": 33,
   "metadata": {},
   "outputs": [
    {
     "name": "stdout",
     "output_type": "stream",
     "text": [
      "Reject null hypothesis that: Houses with 3 bedrooms or more and houses with less than 3 bedrooms are independent to value of home\n",
      "There is evidence to suggest: Houses with 3 bedrooms or more and houses with less than 3 bedrooms are related to value of home\n"
     ]
    }
   ],
   "source": [
    "null_hypothesis = \"Houses with 3 bedrooms or more and houses with less than 3 bedrooms are independent to value of home\"\n",
    "alternative_hypothesis = \"Houses with 3 bedrooms or more and houses with less than 3 bedrooms are related to value of home\"\n",
    "\n",
    "three_or_more_beds = train[train.beds>=3]\n",
    "less_than_three_beds = train[train.beds<3]\n",
    "t, p = stats.ttest_ind(three_or_more_beds.tax_value, less_than_three_beds.tax_value)\n",
    "\n",
    "if p < alpha:\n",
    "    print(f'Reject null hypothesis that: {null_hypothesis}')\n",
    "    print (f'There is evidence to suggest: {alternative_hypothesis}')\n",
    "else:\n",
    "    print(f'Fail to reject null hypothesis that: {null_hypothesis} There is not sufficient evidence to reject it.')"
   ]
  },
  {
   "cell_type": "code",
   "execution_count": 34,
   "metadata": {},
   "outputs": [
    {
     "name": "stdout",
     "output_type": "stream",
     "text": [
      "Reject null hypothesis that: Houses with 3 bathrooms or more and houses with less than 3 bathrooms are independent to value of home\n",
      "There is evidence to suggest: Houses with 3 bathrooms or more and houses with less than 3 bathrooms are related to value of home\n"
     ]
    }
   ],
   "source": [
    "\n",
    "null_hypothesis = \"Houses with 3 bathrooms or more and houses with less than 3 bathrooms are independent to value of home\"\n",
    "alternative_hypothesis = \"Houses with 3 bathrooms or more and houses with less than 3 bathrooms are related to value of home\"\n",
    "a = 0.05 #a for alpha \n",
    "\n",
    "three_or_more_baths = train[train.baths>=3]\n",
    "less_than_three_baths = train[train.baths<3]\n",
    "t, p = stats.ttest_ind(three_or_more_baths.tax_value, less_than_three_baths.tax_value)\n",
    "\n",
    "if p < a:\n",
    "    print(f'Reject null hypothesis that: {null_hypothesis}')\n",
    "    print (f'There is evidence to suggest: {alternative_hypothesis}')\n",
    "else:\n",
    "    print(f'Fail to reject null hypothesis that: {null_hypothesis} There is not sufficient evidence to reject it.')"
   ]
  },
  {
   "cell_type": "markdown",
   "metadata": {},
   "source": [
    "## Modeling"
   ]
  },
  {
   "cell_type": "code",
   "execution_count": 35,
   "metadata": {},
   "outputs": [],
   "source": [
    "## Turning all my y's into dataframe\n",
    "\n",
    "y_train = pd.DataFrame(y_train)\n",
    "y_validate = pd.DataFrame(y_validate)\n",
    "y_test = pd.DataFrame(y_test)"
   ]
  },
  {
   "cell_type": "markdown",
   "metadata": {},
   "source": [
    "### Establishing Mean and Median Baseline"
   ]
  },
  {
   "cell_type": "code",
   "execution_count": 37,
   "metadata": {},
   "outputs": [
    {
     "name": "stdout",
     "output_type": "stream",
     "text": [
      "Baseline\n",
      "-----------------------------\n",
      "RMSE using Mean\n",
      "Train/In-Sample:  281807.339 \n",
      "Validate/Out-of-Sample:  281662.2611\n",
      "-----------------------------\n",
      "RMSE using Median\n",
      "Train/In-Sample:  289571.9432 \n",
      "Validate/Out-of-Sample:  289540.7683\n",
      "-----------------------------\n",
      "The R squared score for the baseline is -2.8815499812928635e-06\n"
     ]
    }
   ],
   "source": [
    "## tax_value mean\n",
    "tax_value_pred_mean = y_train['tax_value'].mean()\n",
    "y_train['tax_value_pred_mean'] = tax_value_pred_mean\n",
    "y_validate['tax_value_pred_mean'] = tax_value_pred_mean\n",
    "\n",
    "## tax_value_median\n",
    "tax_value_pred_median = y_train['tax_value'].median()\n",
    "y_train['tax_value_pred_median'] = tax_value_pred_median\n",
    "y_validate['tax_value_pred_median'] = tax_value_pred_median\n",
    "\n",
    "## RMSE of tax_value_pred_mean train and validate scores\n",
    "rmse_train = mean_squared_error(y_train.tax_value, y_train.tax_value_pred_mean)**(1/2)\n",
    "rmse_validate = mean_squared_error(y_validate.tax_value, y_validate.tax_value_pred_mean)**(1/2)\n",
    "\n",
    "print('Baseline')\n",
    "print('-----------------------------')\n",
    "print('RMSE using Mean\\nTrain/In-Sample: ', round(rmse_train, 4), \n",
    "      '\\nValidate/Out-of-Sample: ', round(rmse_validate, 4))\n",
    "print('-----------------------------')\n",
    "\n",
    "## RMSE of tax_value_pred_median train and validate scores\n",
    "rmse_train = mean_squared_error(y_train.tax_value, y_train.tax_value_pred_median)**(1/2)\n",
    "rmse_validate = mean_squared_error(y_validate.tax_value, y_validate.tax_value_pred_median)**(1/2)\n",
    "\n",
    "print(\"RMSE using Median\\nTrain/In-Sample: \", round(rmse_train, 4), \n",
    "      \"\\nValidate/Out-of-Sample: \", round(rmse_validate, 4))\n",
    "\n",
    "## R squared score for baseline\n",
    "print('-----------------------------')\n",
    "r2_baseline = r2_score(y_validate.tax_value, y_validate.tax_value_pred_mean)\n",
    "print(f'The R squared score for the baseline is {r2_baseline}')"
   ]
  },
  {
   "cell_type": "markdown",
   "metadata": {},
   "source": [
    " - The mean seems to be better so we will use the mean scores to compare to out models"
   ]
  },
  {
   "cell_type": "code",
   "execution_count": 39,
   "metadata": {},
   "outputs": [
    {
     "data": {
      "text/html": [
       "<div>\n",
       "<style scoped>\n",
       "    .dataframe tbody tr th:only-of-type {\n",
       "        vertical-align: middle;\n",
       "    }\n",
       "\n",
       "    .dataframe tbody tr th {\n",
       "        vertical-align: top;\n",
       "    }\n",
       "\n",
       "    .dataframe thead th {\n",
       "        text-align: right;\n",
       "    }\n",
       "</style>\n",
       "<table border=\"1\" class=\"dataframe\">\n",
       "  <thead>\n",
       "    <tr style=\"text-align: right;\">\n",
       "      <th></th>\n",
       "      <th>beds</th>\n",
       "      <th>baths</th>\n",
       "      <th>square_feet</th>\n",
       "    </tr>\n",
       "  </thead>\n",
       "  <tbody>\n",
       "    <tr>\n",
       "      <th>1947992</th>\n",
       "      <td>0.214286</td>\n",
       "      <td>0.100</td>\n",
       "      <td>0.302377</td>\n",
       "    </tr>\n",
       "    <tr>\n",
       "      <th>357715</th>\n",
       "      <td>0.214286</td>\n",
       "      <td>0.150</td>\n",
       "      <td>0.752718</td>\n",
       "    </tr>\n",
       "    <tr>\n",
       "      <th>1433502</th>\n",
       "      <td>0.285714</td>\n",
       "      <td>0.125</td>\n",
       "      <td>0.369265</td>\n",
       "    </tr>\n",
       "    <tr>\n",
       "      <th>195214</th>\n",
       "      <td>0.142857</td>\n",
       "      <td>0.150</td>\n",
       "      <td>0.232357</td>\n",
       "    </tr>\n",
       "    <tr>\n",
       "      <th>10812</th>\n",
       "      <td>0.285714</td>\n",
       "      <td>0.100</td>\n",
       "      <td>0.346969</td>\n",
       "    </tr>\n",
       "  </tbody>\n",
       "</table>\n",
       "</div>"
      ],
      "text/plain": [
       "             beds  baths  square_feet\n",
       "1947992  0.214286  0.100     0.302377\n",
       "357715   0.214286  0.150     0.752718\n",
       "1433502  0.285714  0.125     0.369265\n",
       "195214   0.142857  0.150     0.232357\n",
       "10812    0.285714  0.100     0.346969"
      ]
     },
     "execution_count": 39,
     "metadata": {},
     "output_type": "execute_result"
    }
   ],
   "source": [
    "X_train_scaled.head() ## <--- taking a brief look at our scaled X columns"
   ]
  },
  {
   "cell_type": "markdown",
   "metadata": {},
   "source": [
    "#### LinearRegression/OLS"
   ]
  },
  {
   "cell_type": "code",
   "execution_count": 50,
   "metadata": {},
   "outputs": [
    {
     "name": "stdout",
     "output_type": "stream",
     "text": [
      "RMSE for OLS using LinearRegression\n",
      "Training/In-Sample:  227803.68035862283 \n",
      "Validate/Out-of-Sample:  228091.73032693783\n",
      "------------------------------------------------\n",
      "R squared score for OLS: 0.34421269016468337\n"
     ]
    }
   ],
   "source": [
    "## we are going to use all three features in X scaled so no subset\n",
    "\n",
    "## create the model\n",
    "lm = LinearRegression(normalize = True)\n",
    "\n",
    "## fit the model to train\n",
    "lm.fit(X_train_scaled, y_train.tax_value)\n",
    "\n",
    "## use the model to predict train\n",
    "y_train['tax_value_pred_lm'] = lm.predict(X_train_scaled)\n",
    "\n",
    "## RMSE score for train\n",
    "rmse_train = mean_squared_error(y_train.tax_value, \n",
    "                                y_train.tax_value_pred_lm) **(1/2)\n",
    "\n",
    "## predict validate \n",
    "y_validate['tax_value_pred_lm'] = lm.predict(X_validate_scaled)\n",
    "\n",
    "## RMSE score for validate\n",
    "rmse_validate = mean_squared_error(y_validate.tax_value, \n",
    "                                y_validate.tax_value_pred_lm) **(1/2)\n",
    "\n",
    "print(\"RMSE for OLS using LinearRegression\\nTraining/In-Sample: \",rmse_train, \n",
    "      \"\\nValidate/Out-of-Sample: \", rmse_validate)\n",
    "print('------------------------------------------------')\n",
    "print(f'R squared score for OLS: {r2_score(y_validate.tax_value, y_validate.tax_value_pred_lm)}')"
   ]
  },
  {
   "cell_type": "markdown",
   "metadata": {},
   "source": [
    "#### Lasso & Lars"
   ]
  },
  {
   "cell_type": "code",
   "execution_count": 51,
   "metadata": {},
   "outputs": [
    {
     "name": "stdout",
     "output_type": "stream",
     "text": [
      "RMSE for Lasso & Lars \n",
      "Training/In-Sample:  227823.53418938915 \n",
      "Validate/Out-of-Sample:  228109.78283165206\n",
      "------------------------------------------------\n",
      "R squared score for Lasso & Lars: 0.344108880421355\n"
     ]
    }
   ],
   "source": [
    "## we are going to use all three features in X scaled so no subset\n",
    "\n",
    "## create the model\n",
    "lars = LassoLars(alpha=1.0)\n",
    "\n",
    "## fit the model to train\n",
    "lars.fit(X_train_scaled, y_train.tax_value)\n",
    "\n",
    "## use the model to predict train\n",
    "y_train['tax_value_pred_lars'] = lars.predict(X_train_scaled)\n",
    "\n",
    "## RMSE score for train\n",
    "rmse_train = mean_squared_error(y_train.tax_value, \n",
    "                                y_train.tax_value_pred_lars) **(1/2)\n",
    "\n",
    "## predict validate \n",
    "y_validate['tax_value_pred_lars'] = lars.predict(X_validate_scaled)\n",
    "\n",
    "## RMSE score for validate\n",
    "rmse_validate = mean_squared_error(y_validate.tax_value, \n",
    "                                y_validate.tax_value_pred_lars) **(1/2)\n",
    "\n",
    "print(\"RMSE for Lasso & Lars \\nTraining/In-Sample: \",rmse_train, \n",
    "      \"\\nValidate/Out-of-Sample: \", rmse_validate)\n",
    "print('------------------------------------------------')\n",
    "print(f'R squared score for Lasso & Lars: {r2_score(y_validate.tax_value, y_validate.tax_value_pred_lars)}')"
   ]
  },
  {
   "cell_type": "markdown",
   "metadata": {},
   "source": [
    "#### TweedieRegressor"
   ]
  },
  {
   "cell_type": "code",
   "execution_count": 52,
   "metadata": {},
   "outputs": [
    {
     "name": "stdout",
     "output_type": "stream",
     "text": [
      "RMSE for TweedieRegressor \n",
      "Training/In-Sample:  227803.6803586228 \n",
      "Validate/Out-of-Sample:  228091.7303269378\n",
      "------------------------------------------------\n",
      "R squared score for TweedieRegressor: 0.3442126901646835\n"
     ]
    }
   ],
   "source": [
    "## we are going to use all three features in X scaled so no subset\n",
    "\n",
    "## create the model\n",
    "glm = TweedieRegressor(power = 0, alpha = 0)\n",
    "\n",
    "## fit the model to train\n",
    "glm.fit(X_train_scaled, y_train.tax_value)\n",
    "\n",
    "## use the model to predict train\n",
    "y_train['tax_value_pred_glm'] = glm.predict(X_train_scaled)\n",
    "\n",
    "## RMSE score for train\n",
    "rmse_train = mean_squared_error(y_train.tax_value, \n",
    "                                y_train.tax_value_pred_glm) **(1/2)\n",
    "\n",
    "## predict validate \n",
    "y_validate['tax_value_pred_glm'] = glm.predict(X_validate_scaled)\n",
    "\n",
    "## RMSE score for validate\n",
    "rmse_validate = mean_squared_error(y_validate.tax_value, \n",
    "                                   y_validate.tax_value_pred_glm) **(1/2)\n",
    "\n",
    "print(\"RMSE for TweedieRegressor \\nTraining/In-Sample: \",rmse_train, \n",
    "      \"\\nValidate/Out-of-Sample: \", rmse_validate)\n",
    "print('------------------------------------------------')\n",
    "print(f'R squared score for TweedieRegressor: {r2_score(y_validate.tax_value, y_validate.tax_value_pred_glm)}')"
   ]
  },
  {
   "cell_type": "markdown",
   "metadata": {},
   "source": [
    "#### Polynomial Regression"
   ]
  },
  {
   "cell_type": "code",
   "execution_count": 54,
   "metadata": {},
   "outputs": [],
   "source": [
    "## getting new set of features using degree 4\n",
    "pf = PolynomialFeatures(degree = 4)\n",
    "\n",
    "## fitting and transforming scaled X's for lm2 below\n",
    "X_train_degree2 = pf.fit_transform(X_train_scaled)\n",
    "X_validate_degree2 = pf.fit_transform(X_validate_scaled)\n",
    "X_test_degree3 = pf.transform(X_test_scaled)"
   ]
  },
  {
   "cell_type": "markdown",
   "metadata": {},
   "source": [
    "#### New Linear Regression\n",
    " - Using Polynomial Features"
   ]
  },
  {
   "cell_type": "code",
   "execution_count": 56,
   "metadata": {},
   "outputs": [
    {
     "name": "stdout",
     "output_type": "stream",
     "text": [
      "RMSE for Polynomial Features: \n",
      "Training/In-Sample:  226197.57119580416 \n",
      "Validate/Out-of-Sample:  226569.3225652136\n",
      "------------------------------------------------\n",
      "R squared score for Polynomial Features: 0.35293763463352623\n"
     ]
    }
   ],
   "source": [
    "## we are going to use all three features in X scaled so no subset\n",
    "\n",
    "## create the model\n",
    "lm2 = LinearRegression(normalize = True)\n",
    "\n",
    "## fit the model to train\n",
    "lm2.fit(X_train_degree2, y_train.tax_value)\n",
    "\n",
    "## use the model to predict train\n",
    "y_train['tax_value_pred_lm2'] = lm2.predict(X_train_degree2)\n",
    "\n",
    "## RMSE score for train\n",
    "rmse_train = mean_squared_error(y_train.tax_value, \n",
    "                                y_train.tax_value_pred_lm2) **(1/2)\n",
    "\n",
    "## predict validate \n",
    "y_validate['tax_value_pred_lm2'] = lm2.predict(X_validate_degree2)\n",
    "\n",
    "## RMSE score for validate\n",
    "rmse_validate = mean_squared_error(y_validate.tax_value, \n",
    "                                y_validate.tax_value_pred_lm2) **(1/2)\n",
    "\n",
    "print(\"RMSE for Polynomial Features: \\nTraining/In-Sample: \",rmse_train, \n",
    "      \"\\nValidate/Out-of-Sample: \", rmse_validate)\n",
    "print('------------------------------------------------')\n",
    "print(f'R squared score for Polynomial Features: {r2_score(y_validate.tax_value, y_validate.tax_value_pred_lm2)}')"
   ]
  },
  {
   "cell_type": "code",
   "execution_count": null,
   "metadata": {},
   "outputs": [],
   "source": []
  }
 ],
 "metadata": {
  "kernelspec": {
   "display_name": "Python 3",
   "language": "python",
   "name": "python3"
  },
  "language_info": {
   "codemirror_mode": {
    "name": "ipython",
    "version": 3
   },
   "file_extension": ".py",
   "mimetype": "text/x-python",
   "name": "python",
   "nbconvert_exporter": "python",
   "pygments_lexer": "ipython3",
   "version": "3.8.5"
  }
 },
 "nbformat": 4,
 "nbformat_minor": 4
}
